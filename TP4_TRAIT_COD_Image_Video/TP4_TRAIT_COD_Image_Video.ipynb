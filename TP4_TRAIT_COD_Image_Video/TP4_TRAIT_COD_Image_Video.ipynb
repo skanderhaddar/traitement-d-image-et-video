{
 "cells": [
  {
   "cell_type": "markdown",
   "metadata": {},
   "source": [
    "# HADDAR SKANDER 2EME IDSD2\n"
   ]
  },
  {
   "cell_type": "code",
   "execution_count": 89,
   "metadata": {},
   "outputs": [],
   "source": [
    "import cv2\n",
    "import os"
   ]
  },
  {
   "cell_type": "code",
   "execution_count": 98,
   "metadata": {},
   "outputs": [],
   "source": [
    "video = cv2.VideoCapture(r\"C:\\Users\\USER\\Desktop\\tous les tp\\tp traitement d'image\\TP4_TRAIT_COD_Image_Video\\Resources\\Cars.mp4\")"
   ]
  },
  {
   "cell_type": "code",
   "execution_count": 91,
   "metadata": {},
   "outputs": [
    {
     "data": {
      "text/plain": [
       "755.0"
      ]
     },
     "execution_count": 91,
     "metadata": {},
     "output_type": "execute_result"
    }
   ],
   "source": [
    "nbr_frame= video.get(cv2.CAP_PROP_FRAME_COUNT) \n",
    "nbr_frame"
   ]
  },
  {
   "cell_type": "code",
   "execution_count": 92,
   "metadata": {},
   "outputs": [],
   "source": [
    "debit_dinfo = video.get(cv2.CAP_PROP_FPS )"
   ]
  },
  {
   "cell_type": "code",
   "execution_count": 93,
   "metadata": {},
   "outputs": [
    {
     "data": {
      "text/plain": [
       "25.011331420641746"
      ]
     },
     "execution_count": 93,
     "metadata": {},
     "output_type": "execute_result"
    }
   ],
   "source": [
    "debit_dinfo"
   ]
  },
  {
   "cell_type": "code",
   "execution_count": 115,
   "metadata": {},
   "outputs": [
    {
     "data": {
      "text/plain": [
       "25.011331420641746"
      ]
     },
     "execution_count": 115,
     "metadata": {},
     "output_type": "execute_result"
    }
   ],
   "source": [
    "cv2.VideoCapture.get(video,5)\n"
   ]
  },
  {
   "cell_type": "code",
   "execution_count": 94,
   "metadata": {},
   "outputs": [],
   "source": [
    "width = video.get(cv2.CAP_PROP_FRAME_WIDTH)\n",
    "height = video.get(cv2.CAP_PROP_FRAME_HEIGHT)"
   ]
  },
  {
   "cell_type": "code",
   "execution_count": 95,
   "metadata": {},
   "outputs": [],
   "source": [
    "video = cv2.VideoCapture(r\"C:\\Users\\USER\\Desktop\\tous les tp\\tp traitement d'image\\TP4_TRAIT_COD_Image_Video\\Resources\\Cars.mp4\")\n",
    "while (True):\n",
    "\t# stoquer l'image issue de la vidéo à l'instant t dans la variable \"frame\"\n",
    "    ret, frame = video.read()\n",
    "    # afficher l'image contenue dans \"frame\"\n",
    "    cv2.imshow('output', frame)\n",
    "\t# quiter la boucle infinie lorqu'on appuie sur la touche 'q'\n",
    "    if(cv2.waitKey(25) & 0xFF == ord('q')) :\n",
    "        break\n",
    "video.release()\n",
    "cv2.destroyAllWindows()\n"
   ]
  },
  {
   "cell_type": "code",
   "execution_count": 96,
   "metadata": {},
   "outputs": [],
   "source": [
    "import cv2\n",
    "\n",
    "# Opens the Video file\n",
    "cap= cv2.VideoCapture(r\"C:\\Users\\USER\\Desktop\\tous les tp\\tp traitement d'image\\TP4_TRAIT_COD_Image_Video\\Resources\\Cars.mp4\")\n",
    "i=0\n",
    "while(cap.isOpened()):\n",
    "    ret, frame = cap.read()\n",
    "    if ret == False:\n",
    "        break\n",
    "    if i<31:\n",
    "        if i<20:\n",
    "            pass\n",
    "        else:\n",
    "            cv2.imwrite(r\"C:\\Users\\USER\\Desktop\\tous les tp\\tp traitement d'image\\TP4_TRAIT_COD_Image_Video\\Resources\\Image\\img\"+str(i)+'.jpg',frame)\n",
    "    i+=1\n",
    "    \n",
    "\n",
    "cap.release()\n",
    "cv2.destroyAllWindows()\n"
   ]
  },
  {
   "cell_type": "code",
   "execution_count": 99,
   "metadata": {},
   "outputs": [
    {
     "name": "stdout",
     "output_type": "stream",
     "text": [
      "(640, 360)\n"
     ]
    }
   ],
   "source": [
    "width =int( video.get(cv2.CAP_PROP_FRAME_WIDTH))\n",
    "height = int(video.get(cv2.CAP_PROP_FRAME_HEIGHT))\n",
    "frame_size = (width,height)\n",
    "print(frame_size)\n"
   ]
  },
  {
   "cell_type": "code",
   "execution_count": 107,
   "metadata": {},
   "outputs": [
    {
     "name": "stdout",
     "output_type": "stream",
     "text": [
      "yes\n",
      "yes\n",
      "yes\n",
      "yes\n",
      "yes\n",
      "yes\n",
      "yes\n",
      "yes\n",
      "yes\n",
      "yes\n",
      "yes\n",
      "yes\n",
      "yes\n",
      "yes\n",
      "yes\n",
      "yes\n",
      "yes\n",
      "yes\n",
      "yes\n",
      "yes\n"
     ]
    }
   ],
   "source": [
    "video = cv2.VideoCapture(r\"C:\\Users\\USER\\Desktop\\tous les tp\\tp traitement d'image\\TP4_TRAIT_COD_Image_Video\\Resources\\Cars.mp4\")\n",
    "width =int( video.get(cv2.CAP_PROP_FRAME_WIDTH))\n",
    "height = int(video.get(cv2.CAP_PROP_FRAME_HEIGHT))\n",
    "frame_size = (width,height)\n",
    "output1 = cv2.VideoWriter(r\"C:\\Users\\USER\\Desktop\\tous les tp\\tp traitement d'image\\TP4_TRAIT_COD_Image_Video\\Resources\\Video/Video 1.avi\", 0, 10, frame_size)\n",
    "fourcc = cv2.VideoWriter_fourcc(*'XVID')\n",
    "output2 = cv2.VideoWriter(r\"C:\\Users\\USER\\Desktop\\tous les tp\\tp traitement d'image\\TP4_TRAIT_COD_Image_Video\\Resources\\Video/Video 2.avi\", fourcc, 10, frame_size)\n",
    "fourcc = cv2.VideoWriter_fourcc(*'FMP4')\n",
    "output3 = cv2.VideoWriter(r\"C:\\Users\\USER\\Desktop\\tous les tp\\tp traitement d'image\\TP4_TRAIT_COD_Image_Video\\Resources\\Video/Video 3.mp4\", fourcc, 10, frame_size)\n",
    "fourcc = cv2.VideoWriter_fourcc(*'PIM4') #h264\n",
    "output4 = cv2.VideoWriter(r\"C:\\Users\\USER\\Desktop\\tous les tp\\tp traitement d'image\\TP4_TRAIT_COD_Image_Video\\Resources\\Video/Video 4.mp4\", fourcc, 10, frame_size)\n",
    "fourcc=cv2.VideoWriter_fourcc('M','J','P','G')\n",
    "output5 = cv2.VideoWriter(r\"C:\\Users\\USER\\Desktop\\tous les tp\\tp traitement d'image\\TP4_TRAIT_COD_Image_Video\\Resources\\Video/Video 5.avi\",fourcc , 10, frame_size)\n",
    "for frame in range(20):\n",
    "    ret, frame = video.read()\n",
    "    if ret == True:\n",
    "        output1.write(frame)\n",
    "        output2.write(frame)\n",
    "        output3.write(frame)\n",
    "        output4.write(frame)\n",
    "        output5.write(frame)\n",
    "        print(\"yes\")\n",
    "    else:\n",
    "         print(\"Stream disconnected\")\n",
    "         break\n"
   ]
  },
  {
   "cell_type": "code",
   "execution_count": 109,
   "metadata": {},
   "outputs": [
    {
     "name": "stdout",
     "output_type": "stream",
     "text": [
      "yes\n",
      "yes\n",
      "yes\n",
      "yes\n",
      "yes\n",
      "yes\n",
      "yes\n",
      "yes\n",
      "yes\n",
      "yes\n",
      "yes\n",
      "yes\n",
      "yes\n",
      "yes\n",
      "yes\n",
      "yes\n",
      "yes\n",
      "yes\n",
      "yes\n",
      "yes\n"
     ]
    }
   ],
   "source": [
    "video = cv2.VideoCapture(r\"C:\\Users\\USER\\Desktop\\tous les tp\\tp traitement d'image\\TP4_TRAIT_COD_Image_Video\\Resources\\Cars.mp4\")\n",
    "width =int( video.get(cv2.CAP_PROP_FRAME_WIDTH))\n",
    "height = int(video.get(cv2.CAP_PROP_FRAME_HEIGHT))\n",
    "frame_size = (width,height)\n",
    "output1 = cv2.VideoWriter(r\"C:\\Users\\USER\\Desktop\\tous les tp\\tp traitement d'image\\TP4_TRAIT_COD_Image_Video\\Resources\\Video/Video 1 fps20.avi\", 0, 20, frame_size)\n",
    "fourcc = cv2.VideoWriter_fourcc(*'XVID')\n",
    "output2 = cv2.VideoWriter(r\"C:\\Users\\USER\\Desktop\\tous les tp\\tp traitement d'image\\TP4_TRAIT_COD_Image_Video\\Resources\\Video/Video 2 fps20.avi\", fourcc, 20, frame_size)\n",
    "fourcc = cv2.VideoWriter_fourcc(*'FMP4')\n",
    "output3 = cv2.VideoWriter(r\"C:\\Users\\USER\\Desktop\\tous les tp\\tp traitement d'image\\TP4_TRAIT_COD_Image_Video\\Resources\\Video/Video 3 fps20.mp4\", fourcc, 20, frame_size)\n",
    "fourcc = cv2.VideoWriter_fourcc(*'PIM4') #h264\n",
    "output4 = cv2.VideoWriter(r\"C:\\Users\\USER\\Desktop\\tous les tp\\tp traitement d'image\\TP4_TRAIT_COD_Image_Video\\Resources\\Video/Video 4 fps20.mp4\", fourcc, 20, frame_size)\n",
    "fourcc=cv2.VideoWriter_fourcc('M','J','P','G')\n",
    "output5 = cv2.VideoWriter(r\"C:\\Users\\USER\\Desktop\\tous les tp\\tp traitement d'image\\TP4_TRAIT_COD_Image_Video\\Resources\\Video/Video 5 fps20.avi\",fourcc , 20, frame_size)\n",
    "for frame in range(20):\n",
    "    ret, frame = video.read()\n",
    "    if ret == True:\n",
    "        output1.write(frame)\n",
    "        output2.write(frame)\n",
    "        output3.write(frame)\n",
    "        output4.write(frame)\n",
    "        output5.write(frame)\n",
    "        print(\"yes\")\n",
    "    else:\n",
    "         print(\"Stream disconnected\")\n",
    "         break\n"
   ]
  },
  {
   "cell_type": "code",
   "execution_count": 117,
   "metadata": {},
   "outputs": [
    {
     "name": "stdout",
     "output_type": "stream",
     "text": [
      "taille de Video 1   6918166\n",
      "taille de Video 2   214740\n",
      "taille de Video 3   209434\n",
      "taille de Video 4   334755\n",
      "taille de Video 5   339272\n"
     ]
    }
   ],
   "source": [
    "a = os.path.getsize(r\"C:\\Users\\USER\\Desktop\\tous les tp\\tp traitement d'image\\TP4_TRAIT_COD_Image_Video\\Resources\\Video/Video 1.avi\")\n",
    "b = os.path.getsize(r\"C:\\Users\\USER\\Desktop\\tous les tp\\tp traitement d'image\\TP4_TRAIT_COD_Image_Video\\Resources\\Video/Video 2.avi\")\n",
    "c = os.path.getsize(r\"C:\\Users\\USER\\Desktop\\tous les tp\\tp traitement d'image\\TP4_TRAIT_COD_Image_Video\\Resources\\Video/Video 3.mp4\")\n",
    "d = os.path.getsize(r\"C:\\Users\\USER\\Desktop\\tous les tp\\tp traitement d'image\\TP4_TRAIT_COD_Image_Video\\Resources\\Video/Video 4.mp4\")\n",
    "e = os.path.getsize(r\"C:\\Users\\USER\\Desktop\\tous les tp\\tp traitement d'image\\TP4_TRAIT_COD_Image_Video\\Resources\\Video/Video 5.avi\")\n",
    "print(\"taille de Video 1  \",a)\n",
    "print(\"taille de Video 2  \",b)\n",
    "print(\"taille de Video 3  \",c)\n",
    "print(\"taille de Video 4  \",d)\n",
    "print(\"taille de Video 5  \",e)\n"
   ]
  },
  {
   "cell_type": "code",
   "execution_count": 110,
   "metadata": {},
   "outputs": [
    {
     "name": "stdout",
     "output_type": "stream",
     "text": [
      "taille de Video 1 fps20  6918166\n",
      "taille de Video 2 fps20  214740\n",
      "taille de Video 3 fps20  209434\n",
      "taille de Video 4 fps20  334211\n",
      "taille de Video 5 fps20  339272\n"
     ]
    }
   ],
   "source": [
    "a = os.path.getsize(r\"C:\\Users\\USER\\Desktop\\tous les tp\\tp traitement d'image\\TP4_TRAIT_COD_Image_Video\\Resources\\Video/Video 1 fps20.avi\")\n",
    "b = os.path.getsize(r\"C:\\Users\\USER\\Desktop\\tous les tp\\tp traitement d'image\\TP4_TRAIT_COD_Image_Video\\Resources\\Video/Video 2 fps20.avi\")\n",
    "c = os.path.getsize(r\"C:\\Users\\USER\\Desktop\\tous les tp\\tp traitement d'image\\TP4_TRAIT_COD_Image_Video\\Resources\\Video/Video 3 fps20.mp4\")\n",
    "d = os.path.getsize(r\"C:\\Users\\USER\\Desktop\\tous les tp\\tp traitement d'image\\TP4_TRAIT_COD_Image_Video\\Resources\\Video/Video 4 fps20.mp4\")\n",
    "e = os.path.getsize(r\"C:\\Users\\USER\\Desktop\\tous les tp\\tp traitement d'image\\TP4_TRAIT_COD_Image_Video\\Resources\\Video/Video 5 fps20.avi\")\n",
    "print(\"taille de Video 1 fps20 \",a)\n",
    "print(\"taille de Video 2 fps20 \",b)\n",
    "print(\"taille de Video 3 fps20 \",c)\n",
    "print(\"taille de Video 4 fps20 \",d)\n",
    "print(\"taille de Video 5 fps20 \",e)\n"
   ]
  },
  {
   "cell_type": "code",
   "execution_count": 112,
   "metadata": {},
   "outputs": [
    {
     "name": "stdout",
     "output_type": "stream",
     "text": [
      "taux de compression de a 0.9495441528809011\n",
      "taux de compression de a 0.029473867986059412\n",
      "taux de compression de a 0.02874559964511673\n",
      "taux de compression de a 0.045871709478853044\n",
      "taux de compression de a 0.04656635065365721\n"
     ]
    }
   ],
   "source": [
    "a0 = os.path.getsize(r\"C:\\Users\\USER\\Desktop\\tous les tp\\tp traitement d'image\\TP4_TRAIT_COD_Image_Video\\Resources\\Cars.mp4\")\n",
    "print(\"taux de compression de a\",a/a0) # sans compression\n",
    "print(\"taux de compression de a\",b/a0)\n",
    "print(\"taux de compression de a\",c/a0)\n",
    "print(\"taux de compression de a\",d/a0)\n",
    "print(\"taux de compression de a\",e/a0)\n"
   ]
  },
  {
   "cell_type": "markdown",
   "metadata": {},
   "source": [
    "Je remarque que la compression a dominuer \n",
    "\n"
   ]
  },
  {
   "cell_type": "code",
   "execution_count": null,
   "metadata": {},
   "outputs": [],
   "source": []
  }
 ],
 "metadata": {
  "kernelspec": {
   "display_name": "Python 3",
   "language": "python",
   "name": "python3"
  },
  "language_info": {
   "codemirror_mode": {
    "name": "ipython",
    "version": 3
   },
   "file_extension": ".py",
   "mimetype": "text/x-python",
   "name": "python",
   "nbconvert_exporter": "python",
   "pygments_lexer": "ipython3",
   "version": "3.8.5"
  }
 },
 "nbformat": 4,
 "nbformat_minor": 4
}
